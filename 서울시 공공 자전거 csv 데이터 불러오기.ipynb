{
 "cells": [
  {
   "cell_type": "code",
   "execution_count": 3,
   "metadata": {},
   "outputs": [],
   "source": [
    "import pandas as pd\n",
    "import numpy as np\n",
    "import matplotlib.pyplot as plt\n",
    "import seaborn as sns"
   ]
  },
  {
   "cell_type": "markdown",
   "metadata": {},
   "source": []
  },
  {
   "cell_type": "code",
   "execution_count": 7,
   "metadata": {},
   "outputs": [
    {
     "name": "stdout",
     "output_type": "stream",
     "text": [
      "2018년~2019년3월_공공자전거 일별 대여건수 : \n",
      "           대여일자   대여건수\n",
      "0    2018-01-01   4950\n",
      "1    2018-01-02   7136\n",
      "2    2018-01-03   7156\n",
      "3    2018-01-04   7102\n",
      "4    2018-01-05   7705\n",
      "..          ...    ...\n",
      "450  2019-03-27  35832\n",
      "451  2019-03-28  38806\n",
      "452  2019-03-29  43893\n",
      "453  2019-03-30  14001\n",
      "454  2019-03-31  22326\n",
      "\n",
      "[455 rows x 2 columns]\n"
     ]
    }
   ],
   "source": [
    "file_path = 'D:\\Code\\서울시 따릉이!\\공공자전거 일별 대여건수/서울특별시 공공자전거 일별 대여건수_18.01.01~19.03).csv'\n",
    "\n",
    "df_2018 = pd.read_csv(file_path, encoding='cp949')\n",
    "\n",
    "print(f'2018년~2019년3월_공공자전거 일별 대여건수 : \\n{df_2018}')"
   ]
  },
  {
   "cell_type": "code",
   "execution_count": null,
   "metadata": {},
   "outputs": [],
   "source": []
  }
 ],
 "metadata": {
  "kernelspec": {
   "display_name": "NvulyTarget",
   "language": "python",
   "name": "conda"
  },
  "language_info": {
   "codemirror_mode": {
    "name": "ipython",
    "version": 3
   },
   "file_extension": ".py",
   "mimetype": "text/x-python",
   "name": "python",
   "nbconvert_exporter": "python",
   "pygments_lexer": "ipython3",
   "version": "3.11.5"
  }
 },
 "nbformat": 4,
 "nbformat_minor": 2
}
