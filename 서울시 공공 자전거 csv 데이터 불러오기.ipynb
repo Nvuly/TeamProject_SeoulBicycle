{
 "cells": [
  {
   "cell_type": "markdown",
   "metadata": {},
   "source": [
    "# Objectives\n",
    "- 1. 서울시 공공자전거 대여소별 구별 대여건수 시각화 "
   ]
  },
  {
   "cell_type": "markdown",
   "metadata": {},
   "source": [
    "# Function"
   ]
  },
  {
   "cell_type": "code",
   "execution_count": 77,
   "metadata": {},
   "outputs": [],
   "source": [
    "import pandas as pd\n",
    "import numpy as np\n",
    "import matplotlib.pyplot as plt\n",
    "import seaborn as sns\n",
    "\n",
    "#---------\n",
    "#한글깨짐방지\n",
    "import matplotlib as mpl\n",
    "mpl.rcParams['axes.unicode_minus'] = False\n",
    "#----------\n",
    "from matplotlib import font_manager, rc\n",
    "\n",
    "font_name = font_manager.FontProperties(fname=\"c:/Windows/Fonts/malgun.ttf\").get_name()\n",
    "rc('font', family=font_name)"
   ]
  },
  {
   "cell_type": "markdown",
   "metadata": {},
   "source": [
    "# Data Load"
   ]
  },
  {
   "cell_type": "markdown",
   "metadata": {},
   "source": [
    "## 공공자전거 대여소별 대여건수"
   ]
  },
  {
   "cell_type": "markdown",
   "metadata": {},
   "source": [
    "### 대여소별 대여내역(2015)"
   ]
  },
  {
   "cell_type": "code",
   "execution_count": 78,
   "metadata": {},
   "outputs": [
    {
     "name": "stdout",
     "output_type": "stream",
     "text": [
      "       대여소 그룹              대여소 명   대여 일자 / 월  대여 건수\n",
      "0      그룹명 없음            대여소명 없음  2015-09-19      0\n",
      "1         마포구   101. (구)합정동 주민센터  2015-09-19      5\n",
      "2         마포구    102. 망원역 1번출구 앞  2015-09-19     13\n",
      "3         마포구    103. 망원역 2번출구 앞  2015-09-19     18\n",
      "4         마포구    104. 합정역 1번출구 앞  2015-09-19     11\n",
      "...       ...                ...         ...    ...\n",
      "12469      중구   324. 신세계백화점 본점 앞  2015-12-31      1\n",
      "12470      중구  331. 을지로2가 사거리 북측  2015-12-31      1\n",
      "12471      중구  332. 을지로2가 사거리 남측  2015-12-31      1\n",
      "12472      중구      336. 티마크 호텔 앞  2015-12-31      8\n",
      "12473      중구        346. 맥스타일 앞  2015-12-31      1\n",
      "\n",
      "[12474 rows x 4 columns]\n",
      "********************************************************************************\n",
      "      대여소 그룹              대여소 명   대여 일자 / 월  대여 건수\n",
      "1        마포구   101. (구)합정동 주민센터  2015-09-19      5\n",
      "2        마포구    102. 망원역 1번출구 앞  2015-09-19     13\n",
      "3        마포구    103. 망원역 2번출구 앞  2015-09-19     18\n",
      "4        마포구    104. 합정역 1번출구 앞  2015-09-19     11\n",
      "5        마포구    105. 합정역 5번출구 앞  2015-09-19     15\n",
      "...      ...                ...         ...    ...\n",
      "12469     중구   324. 신세계백화점 본점 앞  2015-12-31      1\n",
      "12470     중구  331. 을지로2가 사거리 북측  2015-12-31      1\n",
      "12471     중구  332. 을지로2가 사거리 남측  2015-12-31      1\n",
      "12472     중구      336. 티마크 호텔 앞  2015-12-31      8\n",
      "12473     중구        346. 맥스타일 앞  2015-12-31      1\n",
      "\n",
      "[12473 rows x 4 columns]\n"
     ]
    },
    {
     "data": {
      "text/plain": [
       "대여소 그룹       0\n",
       "대여소 명        0\n",
       "대여 일자 / 월    0\n",
       "대여 건수        0\n",
       "dtype: int64"
      ]
     },
     "execution_count": 78,
     "metadata": {},
     "output_type": "execute_result"
    }
   ],
   "source": [
    "file_path1= 'D:\\Code\\서울시 따릉이!\\자전거 대여소별 대여 및 반납 내역/대여소별 대여내역(2015년).csv'\n",
    "\n",
    "df_rent_2015 = pd.read_csv(file_path1,encoding='cp949')\n",
    "\n",
    "print(df_rent_2015)\n",
    "\n",
    "print('*'*80)\n",
    "\n",
    "df_rent_2015.drop([0,0], axis=0, inplace=True)\n",
    "print(df_rent_2015)\n",
    "\n",
    "df_rent_2015.isnull().sum()"
   ]
  },
  {
   "cell_type": "markdown",
   "metadata": {},
   "source": [
    "### 한글명 컬럼을 영어로 변환"
   ]
  },
  {
   "cell_type": "code",
   "execution_count": 79,
   "metadata": {},
   "outputs": [
    {
     "name": "stdout",
     "output_type": "stream",
     "text": [
      "      Rent_Place         Place_Name   Rent_Date  Rent_Counts\n",
      "1            마포구   101. (구)합정동 주민센터  2015-09-19            5\n",
      "2            마포구    102. 망원역 1번출구 앞  2015-09-19           13\n",
      "3            마포구    103. 망원역 2번출구 앞  2015-09-19           18\n",
      "4            마포구    104. 합정역 1번출구 앞  2015-09-19           11\n",
      "5            마포구    105. 합정역 5번출구 앞  2015-09-19           15\n",
      "...          ...                ...         ...          ...\n",
      "12469         중구   324. 신세계백화점 본점 앞  2015-12-31            1\n",
      "12470         중구  331. 을지로2가 사거리 북측  2015-12-31            1\n",
      "12471         중구  332. 을지로2가 사거리 남측  2015-12-31            1\n",
      "12472         중구      336. 티마크 호텔 앞  2015-12-31            8\n",
      "12473         중구        346. 맥스타일 앞  2015-12-31            1\n",
      "\n",
      "[12473 rows x 4 columns]\n"
     ]
    }
   ],
   "source": [
    "df_rent_2015.columns=['Rent_Place','Place_Name','Rent_Date', 'Rent_Counts']\n",
    "print(df_rent_2015)"
   ]
  },
  {
   "cell_type": "code",
   "execution_count": 80,
   "metadata": {},
   "outputs": [
    {
     "name": "stdout",
     "output_type": "stream",
     "text": [
      "대여소 그룹별 대여 건수 : \n",
      "Rent_Place\n",
      "마포구       3984\n",
      "영등포구      2527\n",
      "종로구       2034\n",
      "서대문구      1306\n",
      "중구        1201\n",
      "성동구        642\n",
      "광진구        592\n",
      "그룹명 없음     187\n",
      "Name: count, dtype: int64\n"
     ]
    }
   ],
   "source": [
    "counts = df_rent_2015.loc[:,'Rent_Place'].value_counts()\n",
    "\n",
    "print(f'대여소 그룹별 대여 건수 : \\n{counts}')"
   ]
  },
  {
   "cell_type": "code",
   "execution_count": 81,
   "metadata": {},
   "outputs": [
    {
     "name": "stdout",
     "output_type": "stream",
     "text": [
      "대여소 그룹별 대여 건수에 대한 비율 : \n",
      "Rent_Place\n",
      "마포구       0.319410\n",
      "영등포구      0.202598\n",
      "종로구       0.163072\n",
      "서대문구      0.104706\n",
      "중구        0.096288\n",
      "성동구       0.051471\n",
      "광진구       0.047463\n",
      "그룹명 없음    0.014992\n",
      "Name: proportion, dtype: float64\n"
     ]
    }
   ],
   "source": [
    "ratio = df_rent_2015.loc[:,'Rent_Place'].value_counts(normalize=True)\n",
    "print(f'대여소 그룹별 대여 건수에 대한 비율 : \\n{ratio}')"
   ]
  },
  {
   "cell_type": "markdown",
   "metadata": {},
   "source": [
    "### One-Hot Encoding으로 인덱스값 전부 영어로 변경"
   ]
  },
  {
   "cell_type": "code",
   "execution_count": 82,
   "metadata": {},
   "outputs": [
    {
     "name": "stdout",
     "output_type": "stream",
     "text": [
      "       Rent_Place_광진구  Rent_Place_그룹명 없음  Rent_Place_마포구  Rent_Place_서대문구  \\\n",
      "1               False              False            True            False   \n",
      "2               False              False            True            False   \n",
      "3               False              False            True            False   \n",
      "4               False              False            True            False   \n",
      "5               False              False            True            False   \n",
      "...               ...                ...             ...              ...   \n",
      "12469           False              False           False            False   \n",
      "12470           False              False           False            False   \n",
      "12471           False              False           False            False   \n",
      "12472           False              False           False            False   \n",
      "12473           False              False           False            False   \n",
      "\n",
      "       Rent_Place_성동구  Rent_Place_영등포구  Rent_Place_종로구  Rent_Place_중구  \\\n",
      "1               False            False           False          False   \n",
      "2               False            False           False          False   \n",
      "3               False            False           False          False   \n",
      "4               False            False           False          False   \n",
      "5               False            False           False          False   \n",
      "...               ...              ...             ...            ...   \n",
      "12469           False            False           False           True   \n",
      "12470           False            False           False           True   \n",
      "12471           False            False           False           True   \n",
      "12472           False            False           False           True   \n",
      "12473           False            False           False           True   \n",
      "\n",
      "       Place_Name_101. (구)합정동 주민센터  Place_Name_102. 망원역 1번출구 앞  ...  \\\n",
      "1                             True                       False  ...   \n",
      "2                            False                        True  ...   \n",
      "3                            False                       False  ...   \n",
      "4                            False                       False  ...   \n",
      "5                            False                       False  ...   \n",
      "...                            ...                         ...  ...   \n",
      "12469                        False                       False  ...   \n",
      "12470                        False                       False  ...   \n",
      "12471                        False                       False  ...   \n",
      "12472                        False                       False  ...   \n",
      "12473                        False                       False  ...   \n",
      "\n",
      "       Rent_Counts_62  Rent_Counts_66  Rent_Counts_68  Rent_Counts_69  \\\n",
      "1               False           False           False           False   \n",
      "2               False           False           False           False   \n",
      "3               False           False           False           False   \n",
      "4               False           False           False           False   \n",
      "5               False           False           False           False   \n",
      "...               ...             ...             ...             ...   \n",
      "12469           False           False           False           False   \n",
      "12470           False           False           False           False   \n",
      "12471           False           False           False           False   \n",
      "12472           False           False           False           False   \n",
      "12473           False           False           False           False   \n",
      "\n",
      "       Rent_Counts_72  Rent_Counts_81  Rent_Counts_82  Rent_Counts_83  \\\n",
      "1               False           False           False           False   \n",
      "2               False           False           False           False   \n",
      "3               False           False           False           False   \n",
      "4               False           False           False           False   \n",
      "5               False           False           False           False   \n",
      "...               ...             ...             ...             ...   \n",
      "12469           False           False           False           False   \n",
      "12470           False           False           False           False   \n",
      "12471           False           False           False           False   \n",
      "12472           False           False           False           False   \n",
      "12473           False           False           False           False   \n",
      "\n",
      "       Rent_Counts_91  Rent_Counts_92  \n",
      "1               False           False  \n",
      "2               False           False  \n",
      "3               False           False  \n",
      "4               False           False  \n",
      "5               False           False  \n",
      "...               ...             ...  \n",
      "12469           False           False  \n",
      "12470           False           False  \n",
      "12471           False           False  \n",
      "12472           False           False  \n",
      "12473           False           False  \n",
      "\n",
      "[12473 rows x 331 columns]\n"
     ]
    }
   ],
   "source": [
    "df_onehot_2015 = pd.get_dummies(data=df_rent_2015, columns=['Rent_Place','Place_Name','Rent_Date','Rent_Counts'])\n",
    "\n",
    "print(df_onehot_2015)"
   ]
  },
  {
   "cell_type": "markdown",
   "metadata": {},
   "source": [
    "### Visualization"
   ]
  },
  {
   "cell_type": "code",
   "execution_count": 127,
   "metadata": {},
   "outputs": [
    {
     "data": {
      "image/png": "[encoded data removed]",
      "text/plain": [
       "<Figure size 640x480 with 1 Axes>"
      ]
     },
     "metadata": {},
     "output_type": "display_data"
    }
   ],
   "source": [
    "sns.set_context('paper', # notebook, talk, poster\n",
    "                rc={'font.size':15, \n",
    "                    'xtick.labelsize':15, \n",
    "                    'ytick.labelsize':15, \n",
    "                    'axes.labelsize':15})\n",
    "\n",
    "sns.histplot(data=df_rent_2015, x='Rent_Counts', hue='Rent_Place',kde=True)\t\n",
    "plt.show()"
   ]
  },
  {
   "cell_type": "markdown",
   "metadata": {},
   "source": [
    "### 대여소별 대여내역(2016)"
   ]
  },
  {
   "cell_type": "code",
   "execution_count": 84,
   "metadata": {},
   "outputs": [
    {
     "name": "stdout",
     "output_type": "stream",
     "text": [
      "       대여소 그룹                대여소 명   대여 일자 / 월  대여 건수\n",
      "0      그룹명 없음              대여소명 없음  2016-01-01      0\n",
      "1         광진구  500. 어린이대공원역 3번출구 앞  2016-01-01      7\n",
      "2         광진구         501. 광진구의회 앞  2016-01-01      0\n",
      "3         광진구   502. 뚝섬유원지역 1번출구 앞  2016-01-01      9\n",
      "4         광진구     503. 더샵스타시티 C동 앞  2016-01-01      8\n",
      "...       ...                  ...         ...    ...\n",
      "99824      중구           381. 장충체육관  2016-12-31      1\n",
      "99825      중구     382. 약수역 10번출구 앞  2016-12-31      5\n",
      "99826      중구    383. 신당역 12번 출구 뒤  2016-12-31      5\n",
      "99827      중구          384. 종로학원본원  2016-12-31      5\n",
      "99828      중구      387. 훈련원공원주차장 앞  2016-12-31      3\n",
      "\n",
      "[99829 rows x 4 columns]\n",
      "********************************************************************************\n",
      "      대여소 그룹                대여소 명   대여 일자 / 월  대여 건수\n",
      "1        광진구  500. 어린이대공원역 3번출구 앞  2016-01-01      7\n",
      "2        광진구         501. 광진구의회 앞  2016-01-01      0\n",
      "3        광진구   502. 뚝섬유원지역 1번출구 앞  2016-01-01      9\n",
      "4        광진구     503. 더샵스타시티 C동 앞  2016-01-01      8\n",
      "5        광진구       504. 신자초교입구교차로  2016-01-01      1\n",
      "...      ...                  ...         ...    ...\n",
      "99824     중구           381. 장충체육관  2016-12-31      1\n",
      "99825     중구     382. 약수역 10번출구 앞  2016-12-31      5\n",
      "99826     중구    383. 신당역 12번 출구 뒤  2016-12-31      5\n",
      "99827     중구          384. 종로학원본원  2016-12-31      5\n",
      "99828     중구      387. 훈련원공원주차장 앞  2016-12-31      3\n",
      "\n",
      "[99828 rows x 4 columns]\n"
     ]
    },
    {
     "data": {
      "text/plain": [
       "대여소 그룹       0\n",
       "대여소 명        0\n",
       "대여 일자 / 월    0\n",
       "대여 건수        0\n",
       "dtype: int64"
      ]
     },
     "execution_count": 84,
     "metadata": {},
     "output_type": "execute_result"
    }
   ],
   "source": [
    "file_path2= 'D:\\Code\\서울시 따릉이!\\자전거 대여소별 대여 및 반납 내역/대여소별 대여내역(2016년).csv'\n",
    "\n",
    "df_rent_2016 = pd.read_csv(file_path2,encoding='cp949')\n",
    "\n",
    "print(df_rent_2016)\n",
    "\n",
    "print('*'*80)\n",
    "\n",
    "df_rent_2016.drop([0,0], axis=0, inplace=True)\n",
    "print(df_rent_2016)\n",
    "\n",
    "df_rent_2016.isnull().sum()"
   ]
  },
  {
   "cell_type": "markdown",
   "metadata": {},
   "source": [
    "### 대여소별 대여내역(2017)"
   ]
  },
  {
   "cell_type": "code",
   "execution_count": 85,
   "metadata": {},
   "outputs": [
    {
     "name": "stdout",
     "output_type": "stream",
     "text": [
      "        대여소 그룹                대여소 명   대여 일자 / 월  대여 건수\n",
      "0       그룹명 없음              대여소명 없음  2017-01-01      0\n",
      "1          광진구  500. 어린이대공원역 3번출구 앞  2017-01-01     20\n",
      "2          광진구         501. 광진구의회 앞  2017-01-01     10\n",
      "3          광진구   502. 뚝섬유원지역 1번출구 앞  2017-01-01      9\n",
      "4          광진구     503. 더샵스타시티 C동 앞  2017-01-01      9\n",
      "...        ...                  ...         ...    ...\n",
      "245441     중랑구  1442. (구)신한은행 중랑교지점  2017-12-31      3\n",
      "245442     중랑구          1445. 용마지구대  2017-12-31      1\n",
      "245443     중랑구      1446. 중랑전화국 교차로  2017-12-31      3\n",
      "245444     중랑구       1447. 면목역 3번출구  2017-12-31      1\n",
      "245445     중랑구       1448. 코스트코 상봉점  2017-12-31     10\n",
      "\n",
      "[245446 rows x 4 columns]\n",
      "********************************************************************************\n",
      "       대여소 그룹                대여소 명   대여 일자 / 월  대여 건수\n",
      "1         광진구  500. 어린이대공원역 3번출구 앞  2017-01-01     20\n",
      "2         광진구         501. 광진구의회 앞  2017-01-01     10\n",
      "3         광진구   502. 뚝섬유원지역 1번출구 앞  2017-01-01      9\n",
      "4         광진구     503. 더샵스타시티 C동 앞  2017-01-01      9\n",
      "5         광진구       504. 신자초교입구교차로  2017-01-01      6\n",
      "...       ...                  ...         ...    ...\n",
      "245441    중랑구  1442. (구)신한은행 중랑교지점  2017-12-31      3\n",
      "245442    중랑구          1445. 용마지구대  2017-12-31      1\n",
      "245443    중랑구      1446. 중랑전화국 교차로  2017-12-31      3\n",
      "245444    중랑구       1447. 면목역 3번출구  2017-12-31      1\n",
      "245445    중랑구       1448. 코스트코 상봉점  2017-12-31     10\n",
      "\n",
      "[245445 rows x 4 columns]\n"
     ]
    },
    {
     "data": {
      "text/plain": [
       "대여소 그룹       0\n",
       "대여소 명        0\n",
       "대여 일자 / 월    0\n",
       "대여 건수        0\n",
       "dtype: int64"
      ]
     },
     "execution_count": 85,
     "metadata": {},
     "output_type": "execute_result"
    }
   ],
   "source": [
    "file_path3= 'D:\\Code\\서울시 따릉이!\\자전거 대여소별 대여 및 반납 내역/대여소별 대여내역(2017년).csv'\n",
    "\n",
    "df_rent_2017 = pd.read_csv(file_path3,encoding='cp949')\n",
    "\n",
    "print(df_rent_2017)\n",
    "\n",
    "print('*'*80)\n",
    "\n",
    "df_rent_2017.drop([0,0], axis=0, inplace=True)\n",
    "\n",
    "print(df_rent_2017)\n",
    "\n",
    "df_rent_2017.isnull().sum()"
   ]
  },
  {
   "cell_type": "markdown",
   "metadata": {},
   "source": [
    "### 대여소별 대여건수 pd.concat"
   ]
  },
  {
   "cell_type": "code",
   "execution_count": 86,
   "metadata": {},
   "outputs": [
    {
     "name": "stdout",
     "output_type": "stream",
     "text": [
      "대여소별 대여건수 병합 출력 : \n",
      "Empty DataFrame\n",
      "Columns: []\n",
      "Index: [1, 2, 3, 4, 5, 6, 7, 8, 9, 10, 11, 12, 13, 14, 15, 16, 17, 18, 19, 20, 21, 22, 23, 24, 25, 26, 27, 28, 29, 30, 31, 32, 33, 34, 35, 36, 37, 38, 39, 40, 41, 42, 43, 44, 45, 46, 47, 48, 49, 50, 51, 52, 53, 54, 55, 56, 57, 58, 59, 60, 61, 62, 63, 64, 65, 66, 67, 68, 69, 70, 71, 72, 73, 74, 75, 76, 77, 78, 79, 80, 81, 82, 83, 84, 85, 86, 87, 88, 89, 90, 91, 92, 93, 94, 95, 96, 97, 98, 99, 100, ...]\n",
      "\n",
      "[357746 rows x 0 columns]\n",
      "********************************************************************************\n",
      "         index\n",
      "0            1\n",
      "1            2\n",
      "2            3\n",
      "3            4\n",
      "4            5\n",
      "...        ...\n",
      "357741  245441\n",
      "357742  245442\n",
      "357743  245443\n",
      "357744  245444\n",
      "357745  245445\n",
      "\n",
      "[357746 rows x 1 columns]\n",
      "********************************************************************************\n",
      "Empty DataFrame\n",
      "Columns: []\n",
      "Index: [0, 1, 2, 3, 4, 5, 6, 7, 8, 9, 10, 11, 12, 13, 14, 15, 16, 17, 18, 19, 20, 21, 22, 23, 24, 25, 26, 27, 28, 29, 30, 31, 32, 33, 34, 35, 36, 37, 38, 39, 40, 41, 42, 43, 44, 45, 46, 47, 48, 49, 50, 51, 52, 53, 54, 55, 56, 57, 58, 59, 60, 61, 62, 63, 64, 65, 66, 67, 68, 69, 70, 71, 72, 73, 74, 75, 76, 77, 78, 79, 80, 81, 82, 83, 84, 85, 86, 87, 88, 89, 90, 91, 92, 93, 94, 95, 96, 97, 98, 99, ...]\n",
      "\n",
      "[357746 rows x 0 columns]\n"
     ]
    },
    {
     "data": {
      "text/plain": [
       "Series([], dtype: float64)"
      ]
     },
     "execution_count": 86,
     "metadata": {},
     "output_type": "execute_result"
    }
   ],
   "source": [
    "concat1 = pd.concat([df_rent_2015, df_rent_2016, df_rent_2017],\n",
    "                     axis=0, \n",
    "                     join='inner')\n",
    "\n",
    "print(f'대여소별 대여건수 병합 출력 : \\n{concat1}')\n",
    "\n",
    "concat1.isnull().sum()\n",
    "\n",
    "print('*'*80)\n",
    "\n",
    "df_concat_rent = concat1.reset_index(inplace=False)\n",
    "\n",
    "print(df_concat_rent)\n",
    "\n",
    "df_concat_rent.drop(columns=['index'],inplace=True)\n",
    "\n",
    "print('*'*80)\n",
    "\n",
    "print(df_concat_rent)\n",
    "\n",
    "df_concat_rent.isnull().sum()\n"
   ]
  },
  {
   "cell_type": "markdown",
   "metadata": {},
   "source": [
    "## 공공자전거 대여소별 반납건수"
   ]
  },
  {
   "cell_type": "markdown",
   "metadata": {},
   "source": [
    "### 대여소별 반납내역(2015)"
   ]
  },
  {
   "cell_type": "code",
   "execution_count": 87,
   "metadata": {},
   "outputs": [
    {
     "name": "stdout",
     "output_type": "stream",
     "text": [
      "       대여소 그룹              대여소 명   반납 일자 / 월  반납 건수\n",
      "0      그룹명 없음            대여소명 없음  2015-09-19     17\n",
      "1         마포구   101. (구)합정동 주민센터  2015-09-19      8\n",
      "2         마포구    102. 망원역 1번출구 앞  2015-09-19     14\n",
      "3         마포구    103. 망원역 2번출구 앞  2015-09-19     19\n",
      "4         마포구    104. 합정역 1번출구 앞  2015-09-19     10\n",
      "...       ...                ...         ...    ...\n",
      "12469      중구   324. 신세계백화점 본점 앞  2015-12-31      1\n",
      "12470      중구  331. 을지로2가 사거리 북측  2015-12-31      0\n",
      "12471      중구  332. 을지로2가 사거리 남측  2015-12-31      4\n",
      "12472      중구      336. 티마크 호텔 앞  2015-12-31      8\n",
      "12473      중구        346. 맥스타일 앞  2015-12-31      6\n",
      "\n",
      "[12474 rows x 4 columns]\n",
      "********************************************************************************\n",
      "      대여소 그룹              대여소 명   반납 일자 / 월  반납 건수\n",
      "1        마포구   101. (구)합정동 주민센터  2015-09-19      8\n",
      "2        마포구    102. 망원역 1번출구 앞  2015-09-19     14\n",
      "3        마포구    103. 망원역 2번출구 앞  2015-09-19     19\n",
      "4        마포구    104. 합정역 1번출구 앞  2015-09-19     10\n",
      "5        마포구    105. 합정역 5번출구 앞  2015-09-19     13\n",
      "...      ...                ...         ...    ...\n",
      "12469     중구   324. 신세계백화점 본점 앞  2015-12-31      1\n",
      "12470     중구  331. 을지로2가 사거리 북측  2015-12-31      0\n",
      "12471     중구  332. 을지로2가 사거리 남측  2015-12-31      4\n",
      "12472     중구      336. 티마크 호텔 앞  2015-12-31      8\n",
      "12473     중구        346. 맥스타일 앞  2015-12-31      6\n",
      "\n",
      "[12473 rows x 4 columns]\n"
     ]
    }
   ],
   "source": [
    "file_path4= 'D:\\Code\\서울시 따릉이!\\자전거 대여소별 대여 및 반납 내역/대여소별 반납내역(2015년).csv'\n",
    "\n",
    "df_return_2015 = pd.read_csv(file_path4,encoding='cp949')\n",
    "\n",
    "print(df_return_2015)\n",
    "\n",
    "print('*'*80)\n",
    "\n",
    "df_return_2015.drop([0,0],axis=0,inplace=True)\n",
    "print(df_return_2015)"
   ]
  },
  {
   "cell_type": "markdown",
   "metadata": {},
   "source": [
    "### 대여소별 반납내역(2016)"
   ]
  },
  {
   "cell_type": "code",
   "execution_count": 88,
   "metadata": {},
   "outputs": [
    {
     "name": "stdout",
     "output_type": "stream",
     "text": [
      "       대여소 그룹                대여소 명   반납 일자 / 월  반납 건수\n",
      "0      그룹명 없음              대여소명 없음  2016-01-01      3\n",
      "1         광진구  500. 어린이대공원역 3번출구 앞  2016-01-01      5\n",
      "2         광진구         501. 광진구의회 앞  2016-01-01      7\n",
      "3         광진구   502. 뚝섬유원지역 1번출구 앞  2016-01-01      8\n",
      "4         광진구     503. 더샵스타시티 C동 앞  2016-01-01      5\n",
      "...       ...                  ...         ...    ...\n",
      "99824      중구           381. 장충체육관  2016-12-31      1\n",
      "99825      중구     382. 약수역 10번출구 앞  2016-12-31      2\n",
      "99826      중구    383. 신당역 12번 출구 뒤  2016-12-31      5\n",
      "99827      중구          384. 종로학원본원  2016-12-31      2\n",
      "99828      중구      387. 훈련원공원주차장 앞  2016-12-31      5\n",
      "\n",
      "[99829 rows x 4 columns]\n",
      "********************************************************************************\n",
      "      대여소 그룹                대여소 명   반납 일자 / 월  반납 건수\n",
      "1        광진구  500. 어린이대공원역 3번출구 앞  2016-01-01      5\n",
      "2        광진구         501. 광진구의회 앞  2016-01-01      7\n",
      "3        광진구   502. 뚝섬유원지역 1번출구 앞  2016-01-01      8\n",
      "4        광진구     503. 더샵스타시티 C동 앞  2016-01-01      5\n",
      "5        광진구       504. 신자초교입구교차로  2016-01-01      3\n",
      "...      ...                  ...         ...    ...\n",
      "99824     중구           381. 장충체육관  2016-12-31      1\n",
      "99825     중구     382. 약수역 10번출구 앞  2016-12-31      2\n",
      "99826     중구    383. 신당역 12번 출구 뒤  2016-12-31      5\n",
      "99827     중구          384. 종로학원본원  2016-12-31      2\n",
      "99828     중구      387. 훈련원공원주차장 앞  2016-12-31      5\n",
      "\n",
      "[99828 rows x 4 columns]\n"
     ]
    }
   ],
   "source": [
    "file_path5= 'D:\\Code\\서울시 따릉이!\\자전거 대여소별 대여 및 반납 내역/대여소별 반납내역(2016년).csv'\n",
    "\n",
    "df_return_2016 = pd.read_csv(file_path5,encoding='cp949')\n",
    "\n",
    "print(df_return_2016)\n",
    "\n",
    "print('*'*80)\n",
    "\n",
    "df_return_2016.drop([0,0],axis=0,inplace=True)\n",
    "\n",
    "print(df_return_2016)\n"
   ]
  },
  {
   "cell_type": "markdown",
   "metadata": {},
   "source": [
    "### 대여소별 반납내역(2017)"
   ]
  },
  {
   "cell_type": "code",
   "execution_count": 89,
   "metadata": {},
   "outputs": [
    {
     "name": "stdout",
     "output_type": "stream",
     "text": [
      "        대여소 그룹                대여소 명   반납 일자 / 월  반납 건수\n",
      "0       그룹명 없음              대여소명 없음  2017-01-01     10\n",
      "1          광진구  500. 어린이대공원역 3번출구 앞  2017-01-01     12\n",
      "2          광진구         501. 광진구의회 앞  2017-01-01     10\n",
      "3          광진구   502. 뚝섬유원지역 1번출구 앞  2017-01-01     13\n",
      "4          광진구     503. 더샵스타시티 C동 앞  2017-01-01      8\n",
      "...        ...                  ...         ...    ...\n",
      "245441     중랑구  1442. (구)신한은행 중랑교지점  2017-12-31      1\n",
      "245442     중랑구          1445. 용마지구대  2017-12-31      0\n",
      "245443     중랑구      1446. 중랑전화국 교차로  2017-12-31      2\n",
      "245444     중랑구       1447. 면목역 3번출구  2017-12-31      2\n",
      "245445     중랑구       1448. 코스트코 상봉점  2017-12-31      8\n",
      "\n",
      "[245446 rows x 4 columns]\n",
      "********************************************************************************\n",
      "       대여소 그룹                대여소 명   반납 일자 / 월  반납 건수\n",
      "1         광진구  500. 어린이대공원역 3번출구 앞  2017-01-01     12\n",
      "2         광진구         501. 광진구의회 앞  2017-01-01     10\n",
      "3         광진구   502. 뚝섬유원지역 1번출구 앞  2017-01-01     13\n",
      "4         광진구     503. 더샵스타시티 C동 앞  2017-01-01      8\n",
      "5         광진구       504. 신자초교입구교차로  2017-01-01     13\n",
      "...       ...                  ...         ...    ...\n",
      "245441    중랑구  1442. (구)신한은행 중랑교지점  2017-12-31      1\n",
      "245442    중랑구          1445. 용마지구대  2017-12-31      0\n",
      "245443    중랑구      1446. 중랑전화국 교차로  2017-12-31      2\n",
      "245444    중랑구       1447. 면목역 3번출구  2017-12-31      2\n",
      "245445    중랑구       1448. 코스트코 상봉점  2017-12-31      8\n",
      "\n",
      "[245445 rows x 4 columns]\n"
     ]
    }
   ],
   "source": [
    "file_path6= 'D:\\Code\\서울시 따릉이!\\자전거 대여소별 대여 및 반납 내역/대여소별 반납내역(2017년).csv'\n",
    "\n",
    "df_return_2017 = pd.read_csv(file_path6,encoding='cp949')\n",
    "\n",
    "print(df_return_2017)\n",
    "\n",
    "print('*'*80)\n",
    "\n",
    "df_return_2017.drop([0,0], axis=0, inplace=True)\n",
    "\n",
    "print(df_return_2017)"
   ]
  },
  {
   "cell_type": "markdown",
   "metadata": {},
   "source": [
    "### 대여소별 반납건수 pd.concat"
   ]
  },
  {
   "cell_type": "code",
   "execution_count": 90,
   "metadata": {},
   "outputs": [
    {
     "name": "stdout",
     "output_type": "stream",
     "text": [
      "대여소별 반납건수 병합 출력 : \n",
      "       대여소 그룹                대여소 명   반납 일자 / 월  반납 건수\n",
      "1         마포구     101. (구)합정동 주민센터  2015-09-19      8\n",
      "2         마포구      102. 망원역 1번출구 앞  2015-09-19     14\n",
      "3         마포구      103. 망원역 2번출구 앞  2015-09-19     19\n",
      "4         마포구      104. 합정역 1번출구 앞  2015-09-19     10\n",
      "5         마포구      105. 합정역 5번출구 앞  2015-09-19     13\n",
      "...       ...                  ...         ...    ...\n",
      "245441    중랑구  1442. (구)신한은행 중랑교지점  2017-12-31      1\n",
      "245442    중랑구          1445. 용마지구대  2017-12-31      0\n",
      "245443    중랑구      1446. 중랑전화국 교차로  2017-12-31      2\n",
      "245444    중랑구       1447. 면목역 3번출구  2017-12-31      2\n",
      "245445    중랑구       1448. 코스트코 상봉점  2017-12-31      8\n",
      "\n",
      "[357746 rows x 4 columns]\n",
      "********************************************************************************\n",
      "         index 대여소 그룹                대여소 명   반납 일자 / 월  반납 건수\n",
      "0            1    마포구     101. (구)합정동 주민센터  2015-09-19      8\n",
      "1            2    마포구      102. 망원역 1번출구 앞  2015-09-19     14\n",
      "2            3    마포구      103. 망원역 2번출구 앞  2015-09-19     19\n",
      "3            4    마포구      104. 합정역 1번출구 앞  2015-09-19     10\n",
      "4            5    마포구      105. 합정역 5번출구 앞  2015-09-19     13\n",
      "...        ...    ...                  ...         ...    ...\n",
      "357741  245441    중랑구  1442. (구)신한은행 중랑교지점  2017-12-31      1\n",
      "357742  245442    중랑구          1445. 용마지구대  2017-12-31      0\n",
      "357743  245443    중랑구      1446. 중랑전화국 교차로  2017-12-31      2\n",
      "357744  245444    중랑구       1447. 면목역 3번출구  2017-12-31      2\n",
      "357745  245445    중랑구       1448. 코스트코 상봉점  2017-12-31      8\n",
      "\n",
      "[357746 rows x 5 columns]\n",
      "********************************************************************************\n",
      "       대여소 그룹                대여소 명   반납 일자 / 월  반납 건수\n",
      "0         마포구     101. (구)합정동 주민센터  2015-09-19      8\n",
      "1         마포구      102. 망원역 1번출구 앞  2015-09-19     14\n",
      "2         마포구      103. 망원역 2번출구 앞  2015-09-19     19\n",
      "3         마포구      104. 합정역 1번출구 앞  2015-09-19     10\n",
      "4         마포구      105. 합정역 5번출구 앞  2015-09-19     13\n",
      "...       ...                  ...         ...    ...\n",
      "357741    중랑구  1442. (구)신한은행 중랑교지점  2017-12-31      1\n",
      "357742    중랑구          1445. 용마지구대  2017-12-31      0\n",
      "357743    중랑구      1446. 중랑전화국 교차로  2017-12-31      2\n",
      "357744    중랑구       1447. 면목역 3번출구  2017-12-31      2\n",
      "357745    중랑구       1448. 코스트코 상봉점  2017-12-31      8\n",
      "\n",
      "[357746 rows x 4 columns]\n"
     ]
    },
    {
     "data": {
      "text/plain": [
       "대여소 그룹       0\n",
       "대여소 명        0\n",
       "반납 일자 / 월    0\n",
       "반납 건수        0\n",
       "dtype: int64"
      ]
     },
     "execution_count": 90,
     "metadata": {},
     "output_type": "execute_result"
    }
   ],
   "source": [
    "concat2 = pd.concat([df_return_2015,\n",
    "                     df_return_2016,\n",
    "                     df_return_2017],\n",
    "                    axis=0,\n",
    "                    join='inner'\n",
    ")\n",
    "\n",
    "print(f'대여소별 반납건수 병합 출력 : \\n{concat2}')\n",
    "\n",
    "concat2.isnull().sum()\n",
    "\n",
    "print('*'*80)\n",
    "\n",
    "df_concat_return = concat2.reset_index(inplace=False)\n",
    "\n",
    "print(df_concat_return)\n",
    "\n",
    "df_concat_return.drop(columns=['index'],inplace=True)\n",
    "\n",
    "print('*'*80)\n",
    "\n",
    "print(df_concat_return)\n",
    "\n",
    "df_concat_return.isnull().sum()"
   ]
  },
  {
   "cell_type": "code",
   "execution_count": null,
   "metadata": {},
   "outputs": [],
   "source": []
  },
  {
   "cell_type": "code",
   "execution_count": null,
   "metadata": {},
   "outputs": [],
   "source": []
  }
 ],
 "metadata": {
  "kernelspec": {
   "display_name": "NvulyTarget",
   "language": "python",
   "name": "conda"
  },
  "language_info": {
   "codemirror_mode": {
    "name": "ipython",
    "version": 3
   },
   "file_extension": ".py",
   "mimetype": "text/x-python",
   "name": "python",
   "nbconvert_exporter": "python",
   "pygments_lexer": "ipython3",
   "version": "3.11.5"
  }
 },
 "nbformat": 4,
 "nbformat_minor": 2
}
